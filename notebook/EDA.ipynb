{
 "cells": [
  {
   "cell_type": "code",
   "execution_count": null,
   "metadata": {},
   "outputs": [],
   "source": [
    "import os\n",
    "\n",
    "os.chdir(os.pardir)"
   ]
  },
  {
   "cell_type": "code",
   "execution_count": null,
   "metadata": {},
   "outputs": [],
   "source": [
    "from housing.pipeline.pipeline import Pipeline"
   ]
  },
  {
   "cell_type": "code",
   "execution_count": null,
   "metadata": {},
   "outputs": [],
   "source": [
    "p=Pipeline()"
   ]
  },
  {
   "cell_type": "code",
   "execution_count": null,
   "metadata": {},
   "outputs": [],
   "source": [
    "p"
   ]
  },
  {
   "cell_type": "code",
   "execution_count": null,
   "metadata": {},
   "outputs": [],
   "source": [
    "p.start()\n"
   ]
  },
  {
   "cell_type": "code",
   "execution_count": null,
   "metadata": {},
   "outputs": [],
   "source": [
    "f=\"/home/avnish/iNeuron_Private_Intelligence_Limited/MachineLearningProject/machine_learning_project/config/model.yaml\""
   ]
  },
  {
   "cell_type": "code",
   "execution_count": null,
   "metadata": {},
   "outputs": [],
   "source": [
    "from housing.util.util import read_yaml_file"
   ]
  },
  {
   "cell_type": "code",
   "execution_count": null,
   "metadata": {},
   "outputs": [],
   "source": [
    "import json"
   ]
  },
  {
   "cell_type": "code",
   "execution_count": null,
   "metadata": {},
   "outputs": [],
   "source": [
    "json.dump(read_yaml_file(f),open(\"sample.json\",\"w\"),indent=4)"
   ]
  },
  {
   "cell_type": "code",
   "execution_count": null,
   "metadata": {},
   "outputs": [],
   "source": [
    "data=\"\"\"{\n",
    "    \"grid_search\": {\n",
    "        \"class\": \"GridSearchCV\",\n",
    "        \"module\": \"sklearn.model_selection\",\n",
    "        \"params\": {\n",
    "            \"cv\": 4,\n",
    "            \"verbose\": 2\n",
    "        }\n",
    "    },\n",
    "    \"model_selection\": {\n",
    "        \"module_0\": {\n",
    "            \"class\": \"LinearRegression\",\n",
    "            \"module\": \"sklearn.linear_model\",\n",
    "            \"params\": {\n",
    "                \"fit_intercept\": true\n",
    "            },\n",
    "            \"search_param_grid\": {\n",
    "                \"fit_intercept\": [\n",
    "                    true\n",
    "                ]\n",
    "            }\n",
    "        },\n",
    "        \"module_1\": {\n",
    "            \"class\": \"RandomForestRegressor\",\n",
    "            \"module\": \"sklearn.ensemble\",\n",
    "            \"params\": {\n",
    "                \"min_samples_leaf\": 2\n",
    "            },\n",
    "            \"search_param_grid\": {\n",
    "                \"min_samples_leaf\": [\n",
    "                    2\n",
    "                ],\n",
    "                \"n_estimators\": [\n",
    "                    10\n",
    "                ]\n",
    "            }\n",
    "        }\n",
    "    }\n",
    "}\"\"\""
   ]
  },
  {
   "cell_type": "code",
   "execution_count": null,
   "metadata": {},
   "outputs": [],
   "source": [
    "import json"
   ]
  },
  {
   "cell_type": "code",
   "execution_count": null,
   "metadata": {},
   "outputs": [],
   "source": [
    "json.loads(a)"
   ]
  },
  {
   "cell_type": "code",
   "execution_count": null,
   "metadata": {},
   "outputs": [],
   "source": [
    "data=\"\"\"{'grid_search': {'class': 'GridSearchCV',\n",
    "  'module': 'sklearn.model_selection',\n",
    "  'params': {'cv': 4, 'verbose': 2}},\n",
    " 'model_selection': {'module_0': {'class': 'LinearRegression',\n",
    "   'module': 'sklearn.linear_model',\n",
    "   'params': {'fit_intercept': True},\n",
    "   'search_param_grid': {'fit_intercept': [True]}},\n",
    "  'module_1': {'class': 'RandomForestRegressor',\n",
    "   'module': 'sklearn.ensemble',\n",
    "   'params': {'min_samples_leaf': 2},\n",
    "   'search_param_grid': {'min_samples_leaf': [2], 'n_estimators': [10]}}}}\"\"\""
   ]
  },
  {
   "cell_type": "code",
   "execution_count": null,
   "metadata": {},
   "outputs": [],
   "source": [
    "a=data.replace(\"'\",'\"').replace(\"\\n\",\"\")"
   ]
  },
  {
   "cell_type": "code",
   "execution_count": null,
   "metadata": {},
   "outputs": [],
   "source": [
    "len(data[245])"
   ]
  },
  {
   "cell_type": "code",
   "execution_count": null,
   "metadata": {},
   "outputs": [],
   "source": []
  }
 ],
 "metadata": {
  "kernelspec": {
   "display_name": "Python 3.7.0 (conda)",
   "language": "python",
   "name": "python3"
  },
  "language_info": {
   "name": "python",
   "version": "3.7.0"
  },
  "orig_nbformat": 4,
  "vscode": {
   "interpreter": {
    "hash": "b2367ae3799da8f3f6da68c8ba6a1a88a89be1f4155830697575b52a05e059b8"
   }
  }
 },
 "nbformat": 4,
 "nbformat_minor": 2
}
